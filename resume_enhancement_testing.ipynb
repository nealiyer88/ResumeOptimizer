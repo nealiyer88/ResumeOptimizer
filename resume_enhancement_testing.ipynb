{
 "cells": [
  {
   "cell_type": "code",
   "execution_count": 1,
   "metadata": {},
   "outputs": [
    {
     "name": "stdout",
     "output_type": "stream",
     "text": [
      "✅ Loaded NEW llm_api with OpenAI SDK v1.x syntax\n",
      "✅ Imported enhance_section from llm_utils\n"
     ]
    }
   ],
   "source": [
    "from llm_utils import enhance_section\n",
    "\n",
    "print(\"✅ Imported enhance_section from llm_utils\")\n"
   ]
  },
  {
   "cell_type": "code",
   "execution_count": 2,
   "metadata": {},
   "outputs": [
    {
     "name": "stdout",
     "output_type": "stream",
     "text": [
      "✅ Sample inputs defined.\n"
     ]
    }
   ],
   "source": [
    "section_name = \"Work Experience\"\n",
    "resume_section_text = \"\"\"\n",
    "- Managed sales team and increased quarterly revenue.\n",
    "- Improved client satisfaction.\n",
    "\"\"\"\n",
    "\n",
    "relevant_keywords = [\"CRM\", \"Salesforce\", \"quota attainment\", \"pipeline management\"]\n",
    "job_posting_text = (\n",
    "    \"We are looking for a Sales Manager with expertise in Salesforce, CRM management, \"\n",
    "    \"pipeline management, and quota attainment to significantly boost sales performance.\"\n",
    ")\n",
    "\n",
    "print(\"✅ Sample inputs defined.\")\n"
   ]
  },
  {
   "cell_type": "code",
   "execution_count": 3,
   "metadata": {},
   "outputs": [
    {
     "name": "stdout",
     "output_type": "stream",
     "text": [
      "✅ Enhanced Resume Section Output:\n",
      "- Led sales team utilizing CRM tools like Salesforce to exceed quarterly revenue targets by 15%.\n",
      "- Elevated client satisfaction levels by implementing effective pipeline management strategies.\n"
     ]
    }
   ],
   "source": [
    "enhanced_text = enhance_section(\n",
    "    section_name,\n",
    "    resume_section_text,\n",
    "    relevant_keywords,\n",
    "    job_posting_text\n",
    ")\n",
    "\n",
    "print(\"✅ Enhanced Resume Section Output:\")\n",
    "print(enhanced_text)\n"
   ]
  }
 ],
 "metadata": {
  "kernelspec": {
   "display_name": "venv",
   "language": "python",
   "name": "python3"
  },
  "language_info": {
   "codemirror_mode": {
    "name": "ipython",
    "version": 3
   },
   "file_extension": ".py",
   "mimetype": "text/x-python",
   "name": "python",
   "nbconvert_exporter": "python",
   "pygments_lexer": "ipython3",
   "version": "3.11.4"
  }
 },
 "nbformat": 4,
 "nbformat_minor": 2
}

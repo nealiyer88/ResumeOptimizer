{
 "cells": [
  {
   "cell_type": "code",
   "execution_count": 1,
   "id": "9f1dcfe3",
   "metadata": {},
   "outputs": [],
   "source": [
    "# ✅ Load functions\n",
    "from keyword_matcher import extract_keywords, compute_keyword_match\n",
    "from parsing_module import extract_text_pdfplumber, split_resume_into_sections\n",
    "from llm_enhancer import enhance_summary_with_gpt\n"
   ]
  },
  {
   "cell_type": "code",
   "execution_count": 2,
   "id": "3760b0bf",
   "metadata": {},
   "outputs": [],
   "source": [
    "# ✅ Load and parse resume PDF\n",
    "resume_text = extract_text_pdfplumber(\"docs/sample_resume.pdf\")\n",
    "sections = split_resume_into_sections(resume_text)\n",
    "summary_text = sections.get(\"summary\", \"\")\n",
    "full_resume_text = resume_text.lower()  # for keyword matching\n"
   ]
  },
  {
   "cell_type": "code",
   "execution_count": 3,
   "id": "35e9b784",
   "metadata": {},
   "outputs": [
    {
     "name": "stdout",
     "output_type": "stream",
     "text": [
      "🧩 Missing Keywords: ['acquisition', 'audit', 'benchmark', 'collaborate', 'competitive', 'corporate', 'degree', 'hris', 'maintain', 'maintenance', 'recruiting', 'strategy', 'talent', 'tool']\n"
     ]
    }
   ],
   "source": [
    "# ✅ Sample job description (paste your real one if needed)\n",
    "job_posting = \"\"\"\n",
    "People Data Analyst:\n",
    "\n",
    "As a People Data Analyst, you will play a critical role in CAVA’s People & Culture function, specifically within the Total Rewards team. This role is responsible for producing regular reporting and data analysis, key in supporting strategic decision-making across People & Culture, while also collaborating with cross-functional teams across the organization. Your insights will help drive equitable, data-driven, and competitive strategies to attract and retain top talent. This role will provide data backed recommendations to help drive workforce strategy and support industry best practices.\n",
    "\n",
    "\n",
    "\n",
    "What You’ll Do: \n",
    "\n",
    "Develop Periodic Reporting: Assist in creating and enhancing daily reporting to support various business areas.\n",
    "Audit our People Data: Transform raw data so that it can be used in creating reports, maintaining reports, and summarizing results associated with our audits.\n",
    "Interpret our People Data: Identify trends in data, comparing to both internal and external benchmarks.\n",
    "Collaborate with Talent Acquisition & HR: Partner with recruiting and HR teams to merge data from outside of our HRIS systems to provide new insights and assist in creating new metrics.\n",
    "Assist in Cross-Functional Analysis: Develop expertise in the organization’s people data and how it can be leveraged across other areas of the organization.\n",
    "Maintain People Analytics Dashboards: Assist in dashboard maintenance and development.\n",
    "Measure and Track Impact: Identify dates associated with initiatives to inform the business of the results of initiatives.\n",
    "\n",
    "\n",
    "The Qualifications:\n",
    "\n",
    "Bachelor’s degree in Human Resources, Business, Finance, Statistics, or a related field.\n",
    "2+ years of experience in HR analytics, or data analysis in a corporate environment.\n",
    "Proficiency in Excel (advanced), HRIS systems, and data visualization tools (e.g., Tableau, Power BI).\n",
    "Experience working with SQL, Python, or another programming language preferred.\n",
    "\"\"\"\n",
    "\n",
    "# ✅ Compute match result and extract missing keywords\n",
    "match_result = compute_keyword_match(full_resume_text, job_posting)\n",
    "missing_keywords = match_result[\"missing_keywords\"]\n",
    "print(\"🧩 Missing Keywords:\", missing_keywords)\n"
   ]
  },
  {
   "cell_type": "code",
   "execution_count": 4,
   "id": "c88f841d",
   "metadata": {},
   "outputs": [
    {
     "name": "stdout",
     "output_type": "stream",
     "text": [
      "\n",
      "🧠 Original Summary:\n",
      " Federal Data Analyst with 4+ years in human capital analytics, data-driven decision-making, and workforce planning. Skilled\n",
      "in SQL, Python, Tableau, and Power BI, with a track record of optimizing HR processes through data analysis, reporting\n",
      "automation, and visualization.\n",
      "\n",
      "✨ Enhanced Summary:\n",
      " Federal Data Analyst with 4+ years in human capital analytics, data-driven decision-making, and workforce planning. Skilled in SQL, Python, Tableau, and Power BI. Collaborates on talent acquisition, recruiting strategy, and HRIS maintenance. Implements competitive benchmarking and corporate audit processes to optimize HR functions.\n"
     ]
    }
   ],
   "source": [
    "# ✅ Run Summary Enhancement\n",
    "print(\"\\n🧠 Original Summary:\\n\", summary_text)\n",
    "\n",
    "enhanced_summary = enhance_summary_with_gpt(summary_text, missing_keywords)\n",
    "\n",
    "print(\"\\n✨ Enhanced Summary:\\n\", enhanced_summary)\n"
   ]
  }
 ],
 "metadata": {
  "kernelspec": {
   "display_name": "venv",
   "language": "python",
   "name": "python3"
  },
  "language_info": {
   "codemirror_mode": {
    "name": "ipython",
    "version": 3
   },
   "file_extension": ".py",
   "mimetype": "text/x-python",
   "name": "python",
   "nbconvert_exporter": "python",
   "pygments_lexer": "ipython3",
   "version": "3.11.4"
  }
 },
 "nbformat": 4,
 "nbformat_minor": 5
}
